{
 "cells": [
  {
   "cell_type": "code",
   "execution_count": null,
   "metadata": {},
   "outputs": [],
   "source": [
    "pip install jupyterlab"
   ]
  },
  {
   "cell_type": "code",
   "execution_count": 119,
   "metadata": {},
   "outputs": [],
   "source": [
    "import random"
   ]
  },
  {
   "cell_type": "code",
   "execution_count": 120,
   "metadata": {},
   "outputs": [
    {
     "output_type": "error",
     "ename": "Error",
     "evalue": "IPyKernel not installed into interpreter Python 2.7.16 64-bit:/System/Library/Frameworks/Python.framework/Versions/2.7/Resources/Python.app/Contents/MacOS/Python",
     "traceback": [
      "Error: IPyKernel not installed into interpreter Python 2.7.16 64-bit:/System/Library/Frameworks/Python.framework/Versions/2.7/Resources/Python.app/Contents/MacOS/Python",
      "at L.installDependenciesIntoInterpreter (/Users/abdulbaquar/.vscode/extensions/ms-toolsai.jupyter-2021.2.603412351/out/client/extension.js:1:223889)",
      "at processTicksAndRejections (internal/process/task_queues.js:97:5)",
      "at async L.getKernelForLocalRawConnection (/Users/abdulbaquar/.vscode/extensions/ms-toolsai.jupyter-2021.2.603412351/out/client/extension.js:1:222433)"
     ]
    }
   ],
   "source": [
    "class Teacher:\n",
    "    def __init__(self,name,subject,credits,is_lab,period_loc=[]):\n",
    "        self.name=name\n",
    "        self.subject=subject\n",
    "        self.credits=credits\n",
    "        self.is_lab=is_lab\n",
    "        self.period_loc=[]\n",
    "        \n",
    "    def __str__(self):\n",
    "        return self.name   "
   ]
  },
  {
   "cell_type": "code",
   "execution_count": 121,
   "metadata": {},
   "outputs": [],
   "source": [
    "#teacher database to be converted into techer objects\n",
    "        #name  sub_name  credits\n",
    "a=Teacher('Ram',  'Engg. Maths',  3,'NO')    \n",
    "b=Teacher('Victor',   'Field Theory',  3,'NO')    \n",
    "e=Teacher('Mamatha',  'Power Electronics',  4,'NO')    \n",
    "c=Teacher('Chandru',   'Machines',  4,'NO')    \n",
    "d=Teacher('Dawnee',   'VLSI',  3,'NO')\n",
    "f=Teacher('Sridhar','Engg Design', 1,'YES')\n",
    "g=Teacher('Ganesh','Machines Lab',1,'YES')\n",
    "h=Teacher('Dinesh','Math TUT',1,'YES')\n",
    "i=Teacher('Ramakrishna','EDC' , 4,'NO')\n",
    "#Asummption : No. of credits = No. of periods per week"
   ]
  },
  {
   "cell_type": "code",
   "execution_count": 122,
   "metadata": {},
   "outputs": [
    {
     "name": "stdout",
     "output_type": "stream",
     "text": [
      "Engg. Maths\n",
      "Field Theory\n",
      "Machines\n",
      "VLSI\n",
      "Power Electronics\n",
      "Engg Design\n",
      "Machines Lab\n",
      "Math TUT\n",
      "EDC\n"
     ]
    }
   ],
   "source": [
    "#for checking only\n",
    "teachers=[a,b,c,d,e,f,g,h,i]\n",
    "for i in teachers:\n",
    "    print(i.subject)"
   ]
  },
  {
   "cell_type": "code",
   "execution_count": 123,
   "metadata": {},
   "outputs": [
    {
     "data": {
      "text/plain": [
       "'NO'"
      ]
     },
     "execution_count": 123,
     "metadata": {},
     "output_type": "execute_result"
    }
   ],
   "source": [
    "teachers[1].is_lab"
   ]
  },
  {
   "cell_type": "code",
   "execution_count": 124,
   "metadata": {},
   "outputs": [],
   "source": [
    "all_days=[]             #to store all days tt\n",
    "for k in range(0,6):    #for no. of days\n",
    "    present_day=[]      #to store one day tt\n",
    "    count_hours=0       #to count the no. of hours in a day alloted so far\n",
    "    flag = 0\n",
    "    random.shuffle(teachers)\n",
    "    \n",
    "    lab_2_4 = 1\n",
    "    \n",
    "    \n",
    "    for j in teachers:\n",
    "        \n",
    "        if j.credits > 0 and j not in present_day and count_hours<6 :\n",
    "            \n",
    "            if (lab_2_4==2 or lab_2_4==4) and (j.is_lab==\"YES\") :\n",
    "                continue\n",
    "            lab_2_4+=1\n",
    "            \n",
    "            if k==2  and count_hours==5:                   #maximum classes on wednesday are limited to 4\n",
    "                continue\n",
    "            \n",
    "            \n",
    "            \n",
    "            \n",
    "            if k==3  and count_hours==4:                   #maximum classes on thrusday are limited to 4\n",
    "                continue\n",
    "               \n",
    "            if k==4  and count_hours==4:                   #maximum classes on friday are limited to 4\n",
    "                continue\n",
    "            \n",
    "            \n",
    "            \n",
    "            if flag==1 and j.is_lab=='YES':\n",
    "                continue\n",
    "            if count_hours==5 and j.is_lab=='YES': # This is when tutorial/lab is getting alloted at last\n",
    "                continue\n",
    "                \n",
    "            \n",
    "            present_day.append(j)\n",
    "            j.credits-=1\n",
    "            \n",
    "            if j.is_lab=='YES':\n",
    "                count_hours+=2\n",
    "                flag=1\n",
    "            else:\n",
    "                count_hours+=1\n",
    "        else:\n",
    "            pass\n",
    "\n",
    "    all_days.append(present_day) #the present day's time-table gets added to the actual time-table\n",
    "    \n",
    "    \n",
    "    "
   ]
  },
  {
   "cell_type": "code",
   "execution_count": 125,
   "metadata": {},
   "outputs": [
    {
     "name": "stdout",
     "output_type": "stream",
     "text": [
      "Power Electronics | Machines | Engg. Maths | EDC | VLSI | Field Theory | \n",
      "-------------------------------------------------------------------------------\n",
      "VLSI | EDC | Engg. Maths | Field Theory | Math TUT | \n",
      "-------------------------------------------------------------------------------\n",
      "EDC | VLSI | Engg Design | Machines | \n",
      "-------------------------------------------------------------------------------\n",
      "Field Theory | EDC | Engg. Maths | Power Electronics | \n",
      "-------------------------------------------------------------------------------\n",
      "Machines Lab | Power Electronics | Machines | \n",
      "-------------------------------------------------------------------------------\n",
      "Power Electronics | Machines | \n",
      "-------------------------------------------------------------------------------\n"
     ]
    }
   ],
   "source": [
    "for i in all_days:\n",
    "    for j in i:\n",
    "        try:\n",
    "\n",
    "            print(j.subject + ' '+ '| ' ,end='')\n",
    "        except:\n",
    "\n",
    "            pass\n",
    "    print('\\n'+'-------------------------------------------------------------------------------')"
   ]
  },
  {
   "cell_type": "code",
   "execution_count": 126,
   "metadata": {},
   "outputs": [],
   "source": [
    "super_day=[]\n",
    "for i in all_days:\n",
    "    for j in i:\n",
    "        super_day.append(j)"
   ]
  },
  {
   "cell_type": "code",
   "execution_count": 127,
   "metadata": {},
   "outputs": [
    {
     "data": {
      "text/plain": [
       "'Chandru'"
      ]
     },
     "execution_count": 127,
     "metadata": {},
     "output_type": "execute_result"
    }
   ],
   "source": [
    "super_day[-1].name"
   ]
  },
  {
   "cell_type": "code",
   "execution_count": 128,
   "metadata": {},
   "outputs": [],
   "source": [
    "position=1   #don't change this"
   ]
  },
  {
   "cell_type": "code",
   "execution_count": 129,
   "metadata": {},
   "outputs": [],
   "source": [
    "\n",
    "for i in super_day:\n",
    "    i.period_loc.append(position)\n",
    "    position+=1"
   ]
  },
  {
   "cell_type": "code",
   "execution_count": 130,
   "metadata": {
    "scrolled": true
   },
   "outputs": [
    {
     "data": {
      "text/plain": [
       "[6, 10, 16]"
      ]
     },
     "execution_count": 130,
     "metadata": {},
     "output_type": "execute_result"
    }
   ],
   "source": [
    "b.period_loc"
   ]
  },
  {
   "cell_type": "markdown",
   "metadata": {},
   "source": [
    "# Next Year"
   ]
  },
  {
   "cell_type": "code",
   "execution_count": 131,
   "metadata": {},
   "outputs": [],
   "source": [
    "d.subject='Digital Elect'\n",
    "d.credits=4\n",
    "c.subject='Machines 2'\n",
    "c.credits=4\n",
    "h.subject='Engg Math 3'\n",
    "h.credits=3\n",
    "h.is_lab='NO'\n"
   ]
  },
  {
   "cell_type": "code",
   "execution_count": 132,
   "metadata": {},
   "outputs": [],
   "source": [
    "o=Teacher('Kusmika','Networks',3,'NO')\n",
    "p=Teacher('Kusmika 2','Net TUT',1,'YES')\n",
    "k=Teacher('Vinayak','Micro Controllers' , 4,'NO' ) \n",
    "l=Teacher('Tushar',  'Measurement',3,'NO')\n",
    "m=Teacher('Vinayak 2','MC Lab' , 1,'YES') \n",
    "n=Teacher('Dawnee 2','DE Lab' , 1,'YES') \n",
    "\n",
    "\n"
   ]
  },
  {
   "cell_type": "code",
   "execution_count": 133,
   "metadata": {},
   "outputs": [],
   "source": [
    "teachers=[o,p,k,l,m,n,d,c,h]"
   ]
  },
  {
   "cell_type": "code",
   "execution_count": 134,
   "metadata": {},
   "outputs": [
    {
     "data": {
      "text/plain": [
       "[3, 9, 18]"
      ]
     },
     "execution_count": 134,
     "metadata": {},
     "output_type": "execute_result"
    }
   ],
   "source": [
    "a.period_loc"
   ]
  },
  {
   "cell_type": "code",
   "execution_count": 135,
   "metadata": {},
   "outputs": [],
   "source": [
    "count=1"
   ]
  },
  {
   "cell_type": "code",
   "execution_count": 136,
   "metadata": {},
   "outputs": [],
   "source": [
    "all_days_2=[]             #to store all days tt\n",
    "for k in range(0,6):    #for no. of days\n",
    "    present_day=[]      #to store one day tt\n",
    "    count_hours=0       #to count the no. of hours in a day alloted so far\n",
    "    flag = 0\n",
    "    random.shuffle(teachers)\n",
    "    lab_2_4=1\n",
    "    \n",
    "    for j in teachers:\n",
    "        \n",
    "        if (j.credits > 0) and (j not in present_day) and (count_hours<6) and (count not in j.period_loc) and (count+1 not in j.period_loc):\n",
    "            \n",
    "            \n",
    "            if (lab_2_4==2 or lab_2_4==4) and (j.is_lab==\"YES\") :        #to avoid tutorial in period 2_4\n",
    "                continue\n",
    "            lab_2_4+=1\n",
    "            \n",
    "            if k==2  and count_hours==5:                   #maximum classes on wednesday are limited to 4\n",
    "                continue\n",
    "            \n",
    "            \n",
    "            \n",
    "            \n",
    "            if k==3  and count_hours==4:                   #maximum classes on thrusday are limited to 4\n",
    "                continue\n",
    "               \n",
    "            if k==4  and count_hours==4:                   #maximum classes on friday are limited to 4\n",
    "                continue\n",
    "\n",
    "            if flag==1 and j.is_lab=='YES':\n",
    "                continue\n",
    "            if count_hours==5 and j.is_lab=='YES': # This is when tutorial/lab is getting alloted at last\n",
    "                continue\n",
    "                \n",
    "            \n",
    "            present_day.append(j)\n",
    "            j.credits-=1\n",
    "            \n",
    "            if j.is_lab=='YES':\n",
    "                count_hours+=2\n",
    "                flag=1\n",
    "            else:\n",
    "                count_hours+=1\n",
    "        else:\n",
    "            pass\n",
    "\n",
    "    all_days_2.append(present_day) #the present day's time-table gets added to the actual time-table\n",
    "    \n",
    "    \n",
    "    "
   ]
  },
  {
   "cell_type": "code",
   "execution_count": 137,
   "metadata": {},
   "outputs": [
    {
     "data": {
      "text/plain": [
       "[5, 7, 13]"
      ]
     },
     "execution_count": 137,
     "metadata": {},
     "output_type": "execute_result"
    }
   ],
   "source": [
    "d.period_loc"
   ]
  },
  {
   "cell_type": "code",
   "execution_count": 138,
   "metadata": {
    "scrolled": true
   },
   "outputs": [
    {
     "name": "stdout",
     "output_type": "stream",
     "text": [
      "Kusmika | Vinayak | Dawnee | Tushar | Dinesh | \n",
      "----------------------\n",
      "Dawnee 2 | Dawnee | Tushar | Dinesh | Vinayak | \n",
      "----------------------\n",
      "Dinesh | Kusmika | Dawnee | Tushar | Vinayak | \n",
      "----------------------\n",
      "Vinayak 2 | Kusmika | Dawnee | \n",
      "----------------------\n",
      "Vinayak | \n",
      "----------------------\n",
      "Kusmika 2 | \n",
      "----------------------\n"
     ]
    }
   ],
   "source": [
    "for i in all_days_2:\n",
    "    for j in i:\n",
    "        try:\n",
    "\n",
    "            print(j.name + ' '+ '| ' ,end='')\n",
    "        except:\n",
    "\n",
    "            pass\n",
    "    print('\\n'+'----------------------')"
   ]
  },
  {
   "cell_type": "code",
   "execution_count": 139,
   "metadata": {},
   "outputs": [],
   "source": [
    "super_day_2=[]\n",
    "for i in all_days_2:\n",
    "    for j in i:\n",
    "        super_day_2.append(j)"
   ]
  },
  {
   "cell_type": "code",
   "execution_count": 140,
   "metadata": {},
   "outputs": [],
   "source": [
    "#position is continued from earlier computation\n",
    "position=1\n",
    "for i in super_day_2:\n",
    "    i.period_loc.append(position)\n",
    "    position+=1"
   ]
  },
  {
   "cell_type": "code",
   "execution_count": 141,
   "metadata": {},
   "outputs": [
    {
     "data": {
      "text/plain": [
       "[5, 7, 13, 3, 7, 13, 18]"
      ]
     },
     "execution_count": 141,
     "metadata": {},
     "output_type": "execute_result"
    }
   ],
   "source": [
    "d.period_loc #13 was clashing because of the change in numbering"
   ]
  },
  {
   "cell_type": "markdown",
   "metadata": {},
   "source": [
    "# Next Next Year"
   ]
  },
  {
   "cell_type": "code",
   "execution_count": 90,
   "metadata": {},
   "outputs": [],
   "source": [
    "q=Teacher('Archana','Instrumentation',3, 'NO')\n",
    "r=Teacher('Kumaran','Product Design' , 1 ,'YES')\n",
    "s=Teacher('Pradeep','Python',4,'NO')\n",
    "t=Teacher('Dhruv','Superconductors',1,'YES')"
   ]
  },
  {
   "cell_type": "code",
   "execution_count": 91,
   "metadata": {},
   "outputs": [],
   "source": [
    "a.subject=\"Linear Algebra\"\n",
    "a.credits=4\n",
    "b.subject='Signals and Systems'\n",
    "b.credits=4\n",
    "m.subject='IPR'\n",
    "m.credits=3\n"
   ]
  },
  {
   "cell_type": "code",
   "execution_count": 92,
   "metadata": {},
   "outputs": [],
   "source": [
    "teachers=[a,b,m,q,r,s,t]"
   ]
  },
  {
   "cell_type": "code",
   "execution_count": null,
   "metadata": {},
   "outputs": [],
   "source": []
  },
  {
   "cell_type": "code",
   "execution_count": 93,
   "metadata": {},
   "outputs": [],
   "source": [
    "count=1"
   ]
  },
  {
   "cell_type": "code",
   "execution_count": 94,
   "metadata": {},
   "outputs": [],
   "source": [
    "all_days_3=[]             #to store all days tt\n",
    "for k in range(0,6):    #for no. of days\n",
    "    present_day=[]      #to store one day tt\n",
    "    count_hours=0       #to count the no. of hours in a day alloted so far\n",
    "    flag = 0\n",
    "    random.shuffle(teachers)\n",
    "    lab_2_4=1\n",
    "    \n",
    "    for j in teachers:\n",
    "        \n",
    "        if j.credits > 0 and j not in present_day and count_hours<6 and count not in j.period_loc :\n",
    "            \n",
    "            if (lab_2_4==2 or lab_2_4==4) and (j.is_lab==\"YES\") :        #to avoid tutorial in period 2_4\n",
    "                continue\n",
    "                \n",
    "            lab_2_4+=1\n",
    "            \n",
    "            if k==2  and count_hours==5:                   #maximum classes on wednesday are limited to 4\n",
    "                continue\n",
    "            \n",
    "            \n",
    "            \n",
    "            \n",
    "            if k==3  and count_hours==4:                   #maximum classes on thrusday are limited to 4\n",
    "                continue\n",
    "               \n",
    "            if k==4  and count_hours==4:                   #maximum classes on friday are limited to 4\n",
    "                continue\n",
    "\n",
    "            \n",
    "            if flag==1 and j.is_lab=='YES':\n",
    "                continue\n",
    "            if count_hours==5 and j.is_lab=='YES': # This is when tutorial/lab is getting alloted at last\n",
    "                continue\n",
    "                \n",
    "            \n",
    "            present_day.append(j)\n",
    "            j.credits-=1\n",
    "            \n",
    "            if j.is_lab=='YES':\n",
    "                count_hours+=2\n",
    "                flag=1\n",
    "            else:\n",
    "                count_hours+=1\n",
    "        else:\n",
    "            pass\n",
    "\n",
    "    all_days_3.append(present_day) #the present day's time-table gets added to the actual time-table\n",
    "    \n",
    "    \n",
    "    "
   ]
  },
  {
   "cell_type": "code",
   "execution_count": 95,
   "metadata": {},
   "outputs": [
    {
     "name": "stdout",
     "output_type": "stream",
     "text": [
      "Superconductors | Instrumentation | Python | Linear Algebra | \n",
      "---------------------------------------------------------------\n",
      "Product Design | Linear Algebra | Python | Instrumentation | \n",
      "---------------------------------------------------------------\n",
      "Python | Instrumentation | IPR | Linear Algebra | \n",
      "---------------------------------------------------------------\n",
      "IPR | Linear Algebra | Python | \n",
      "---------------------------------------------------------------\n",
      "IPR | \n",
      "---------------------------------------------------------------\n",
      "\n",
      "---------------------------------------------------------------\n"
     ]
    }
   ],
   "source": [
    "for i in all_days_3:\n",
    "    for j in i:\n",
    "        try:\n",
    "\n",
    "            print(j.subject + ' '+ '| ' ,end='')\n",
    "        except:\n",
    "\n",
    "            pass\n",
    "    print('\\n'+'---------------------------------------------------------------')"
   ]
  },
  {
   "cell_type": "code",
   "execution_count": 96,
   "metadata": {},
   "outputs": [],
   "source": [
    "super_day_3=[]\n",
    "for i in all_days_3:\n",
    "    for j in i:\n",
    "        super_day_3.append(j)"
   ]
  },
  {
   "cell_type": "code",
   "execution_count": 97,
   "metadata": {},
   "outputs": [],
   "source": [
    "position=1\n",
    "for i in super_day_3:\n",
    "    i.period_loc.append(position)\n",
    "    position+=1"
   ]
  },
  {
   "cell_type": "code",
   "execution_count": 98,
   "metadata": {},
   "outputs": [
    {
     "data": {
      "text/plain": [
       "[1, 12, 20]"
      ]
     },
     "execution_count": 98,
     "metadata": {},
     "output_type": "execute_result"
    }
   ],
   "source": [
    "b.period_loc   #all different period numbers in grid that means no clashing periods"
   ]
  },
  {
   "cell_type": "markdown",
   "metadata": {},
   "source": [
    "# TO DO:\n",
    "<br>\n",
    "<li>Adding soft constraints\n",
    "<li>Functions to modify time table\n",
    "<li> Include tutorial and labs - batch:wise\n",
    "<li> Shuffle the time-table for randomisation\n",
    "<li> Take in the number of contact hours. \n",
    "<li> Not more than 6 hours in a day\n",
    "<li> No consecutive periods\n",
    "  No empty day Tutorials should be in 1, 3 or 5 periods.\n",
    "<li> Input Pre-processing\n",
    "<li> Visualisation - Pandas\n",
    "<li> UI - Website/QT"
   ]
  },
  {
   "cell_type": "code",
   "execution_count": 99,
   "metadata": {},
   "outputs": [],
   "source": [
    "random.shuffle(teachers)"
   ]
  },
  {
   "cell_type": "code",
   "execution_count": 100,
   "metadata": {},
   "outputs": [
    {
     "data": {
      "text/plain": [
       "'Ram'"
      ]
     },
     "execution_count": 100,
     "metadata": {},
     "output_type": "execute_result"
    }
   ],
   "source": [
    "teachers[0].name"
   ]
  },
  {
   "cell_type": "code",
   "execution_count": null,
   "metadata": {},
   "outputs": [],
   "source": []
  },
  {
   "cell_type": "code",
   "execution_count": null,
   "metadata": {},
   "outputs": [],
   "source": []
  },
  {
   "cell_type": "code",
   "execution_count": null,
   "metadata": {},
   "outputs": [],
   "source": []
  },
  {
   "cell_type": "code",
   "execution_count": null,
   "metadata": {},
   "outputs": [],
   "source": []
  },
  {
   "cell_type": "code",
   "execution_count": null,
   "metadata": {},
   "outputs": [],
   "source": []
  },
  {
   "cell_type": "code",
   "execution_count": null,
   "metadata": {},
   "outputs": [],
   "source": []
  },
  {
   "cell_type": "code",
   "execution_count": null,
   "metadata": {},
   "outputs": [],
   "source": []
  },
  {
   "cell_type": "code",
   "execution_count": null,
   "metadata": {},
   "outputs": [],
   "source": []
  },
  {
   "cell_type": "code",
   "execution_count": null,
   "metadata": {},
   "outputs": [],
   "source": []
  },
  {
   "cell_type": "code",
   "execution_count": null,
   "metadata": {},
   "outputs": [],
   "source": []
  },
  {
   "cell_type": "code",
   "execution_count": null,
   "metadata": {},
   "outputs": [],
   "source": []
  },
  {
   "cell_type": "code",
   "execution_count": null,
   "metadata": {},
   "outputs": [],
   "source": []
  }
 ],
 "metadata": {
  "kernelspec": {
   "display_name": "Python 3",
   "language": "python",
   "name": "python3"
  },
  "language_info": {
   "codemirror_mode": {
    "name": "ipython",
    "version": 3
   },
   "file_extension": ".py",
   "mimetype": "text/x-python",
   "name": "python",
   "nbconvert_exporter": "python",
   "pygments_lexer": "ipython3",
   "version": "3.7.1"
  }
 },
 "nbformat": 4,
 "nbformat_minor": 4
}