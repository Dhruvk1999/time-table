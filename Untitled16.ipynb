{
 "cells": [
  {
   "cell_type": "code",
   "execution_count": 114,
   "metadata": {},
   "outputs": [],
   "source": [
    "import pandas as pd\n",
    "import numpy as np\n",
    "from faker import Faker\n",
    "import random"
   ]
  },
  {
   "cell_type": "code",
   "execution_count": 66,
   "metadata": {},
   "outputs": [],
   "source": [
    "fake=Faker()"
   ]
  },
  {
   "cell_type": "code",
   "execution_count": 198,
   "metadata": {
    "scrolled": true
   },
   "outputs": [],
   "source": [
    "teachers=[]\n",
    "for _ in range(10):\n",
    "  teachers.append(fake.name()) # fake data generator"
   ]
  },
  {
   "cell_type": "code",
   "execution_count": 199,
   "metadata": {},
   "outputs": [
    {
     "data": {
      "text/plain": [
       "['Kenneth Harris',\n",
       " 'Ann Haas',\n",
       " 'Amy Miller',\n",
       " 'Erin Lewis',\n",
       " 'Joseph Long',\n",
       " 'Christine Hall',\n",
       " 'Sean Fields',\n",
       " 'George Davis',\n",
       " 'Sabrina Johnson',\n",
       " 'Mark Anderson']"
      ]
     },
     "execution_count": 199,
     "metadata": {},
     "output_type": "execute_result"
    }
   ],
   "source": [
    "teachers"
   ]
  },
  {
   "cell_type": "code",
   "execution_count": 156,
   "metadata": {},
   "outputs": [],
   "source": [
    "year2_dict={'G':1,'H':1,'I':1,'J':1,'K':1,'M':1,'LAB21':2,'LAB22':2,'LAB23':2,'TUT1':2,'TUT2':2} #subjects with number of hours per day"
   ]
  },
  {
   "cell_type": "code",
   "execution_count": 157,
   "metadata": {},
   "outputs": [],
   "source": [
    "year3_subs=['A','B','C','D','E','F','LAB31','LAB32','LAB33']\n",
    "year2_subs=list(year2_dict.keys())"
   ]
  },
  {
   "cell_type": "code",
   "execution_count": 70,
   "metadata": {},
   "outputs": [],
   "source": [
    "subs_teach={teachers[1]:['A','G','LAB23'],teachers[3]:['LAB32'],\n",
    "            teachers[4]:['LAB31'],teachers[5]:['F','M'],\n",
    "            teachers[6]:['E','K'],teachers[7]:['D','J'],teachers[8]:['C','I'],teachers[9]:['B','H']}"
   ]
  },
  {
   "cell_type": "code",
   "execution_count": 140,
   "metadata": {},
   "outputs": [
    {
     "data": {
      "text/plain": [
       "['G', 'H', 'I', 'J', 'K', 'M', 'LAB21', 'LAB22', 'LAB23', 'TUT1', 'TUT2']"
      ]
     },
     "execution_count": 140,
     "metadata": {},
     "output_type": "execute_result"
    }
   ],
   "source": [
    "year2_subs"
   ]
  },
  {
   "cell_type": "code",
   "execution_count": 191,
   "metadata": {},
   "outputs": [],
   "source": [
    "year2_map=[]\n",
    "for sub in year2_subs:\n",
    "    year2_map.append(sub)\n",
    "    year2_map.append(sub)\n",
    "    year2_map.append(sub)"
   ]
  },
  {
   "cell_type": "code",
   "execution_count": 192,
   "metadata": {},
   "outputs": [],
   "source": [
    "year2_map=year2_map[0:23]\n",
    "year2_map[19]='LAB22'\n",
    "year2_map[20]='LAB23'\n",
    "year2_map[21]='TUT1'\n",
    "year2_map[22]='TUT2' # Replaced lab21 with other labs and tutorials\n"
   ]
  },
  {
   "cell_type": "code",
   "execution_count": 193,
   "metadata": {},
   "outputs": [
    {
     "data": {
      "text/plain": [
       "['G',\n",
       " 'G',\n",
       " 'G',\n",
       " 'H',\n",
       " 'H',\n",
       " 'H',\n",
       " 'I',\n",
       " 'I',\n",
       " 'I',\n",
       " 'J',\n",
       " 'J',\n",
       " 'J',\n",
       " 'K',\n",
       " 'K',\n",
       " 'K',\n",
       " 'M',\n",
       " 'M',\n",
       " 'M',\n",
       " 'LAB21',\n",
       " 'LAB22',\n",
       " 'LAB23',\n",
       " 'TUT1',\n",
       " 'TUT2']"
      ]
     },
     "execution_count": 193,
     "metadata": {},
     "output_type": "execute_result"
    }
   ],
   "source": [
    "year2_map"
   ]
  },
  {
   "cell_type": "code",
   "execution_count": null,
   "metadata": {},
   "outputs": [],
   "source": [
    "year"
   ]
  },
  {
   "cell_type": "code",
   "execution_count": 194,
   "metadata": {},
   "outputs": [
    {
     "data": {
      "text/plain": [
       "['H',\n",
       " 'I',\n",
       " 'M',\n",
       " 'G',\n",
       " 'I',\n",
       " 'J',\n",
       " 'M',\n",
       " 'M',\n",
       " 'K',\n",
       " 'J',\n",
       " 'H',\n",
       " 'LAB21',\n",
       " 'K',\n",
       " 'J',\n",
       " 'TUT2',\n",
       " 'K',\n",
       " 'TUT1',\n",
       " 'G',\n",
       " 'LAB23',\n",
       " 'H',\n",
       " 'LAB22',\n",
       " 'G',\n",
       " 'I']"
      ]
     },
     "execution_count": 194,
     "metadata": {},
     "output_type": "execute_result"
    }
   ],
   "source": [
    "#year2_map\n",
    "random.shuffle(year2_map)# shuffling the list to generate randomness in timetable\n",
    "year2_map"
   ]
  },
  {
   "cell_type": "code",
   "execution_count": 195,
   "metadata": {},
   "outputs": [],
   "source": [
    "\n",
    "all_days=[]\n",
    "for i in range(0,6):\n",
    "    temp_day=[]\n",
    "    hours_sum=0\n",
    "    flag=0 # This is to check whether lab or tutorial has already been alloted on a same day\n",
    "    for sub in year2_map:\n",
    "        \n",
    "\n",
    "        if sub not in temp_day:\n",
    "            if flag==1:\n",
    "                continue\n",
    "            else:\n",
    "            \n",
    "                if year2_dict[sub]==2: \n",
    "                    flag=1\n",
    "\n",
    "                temp_day.append(sub)\n",
    "\n",
    "                hours_sum+=year2_dict[sub] \n",
    "                year2_map.remove(sub)\n",
    "\n",
    "\n",
    "        \n",
    "        if hours_sum==6:                # 1 day cannot have more than 6 hours\n",
    "            break\n",
    "\n",
    "        else:\n",
    "            pass\n",
    "    all_days.append(temp_day) "
   ]
  },
  {
   "cell_type": "markdown",
   "metadata": {},
   "source": [
    "temp_day"
   ]
  },
  {
   "cell_type": "code",
   "execution_count": 197,
   "metadata": {},
   "outputs": [
    {
     "data": {
      "text/plain": [
       "[['H', 'M', 'I', 'K', 'LAB21'],\n",
       " ['G', 'J', 'M', 'H', 'TUT2'],\n",
       " ['I', 'J', 'K', 'G', 'H'],\n",
       " ['M', 'K', 'LAB23'],\n",
       " ['J', 'LAB22'],\n",
       " ['TUT1']]"
      ]
     },
     "execution_count": 197,
     "metadata": {},
     "output_type": "execute_result"
    }
   ],
   "source": [
    "all_days"
   ]
  },
  {
   "cell_type": "code",
   "execution_count": null,
   "metadata": {},
   "outputs": [],
   "source": [
    "all_days = \n"
   ]
  },
  {
   "cell_type": "code",
   "execution_count": null,
   "metadata": {},
   "outputs": [],
   "source": []
  },
  {
   "cell_type": "markdown",
   "metadata": {},
   "source": [
    "<b> ~~ randomise time table ~~<br>\n",
    " ~~include tutorials~~<br>\n",
    " Tutorial should not be in row 6<br>"
   ]
  },
  {
   "cell_type": "markdown",
   "metadata": {},
   "source": [
    "<h1>Implementing for different years</h1>"
   ]
  },
  {
   "cell_type": "code",
   "execution_count": 232,
   "metadata": {},
   "outputs": [],
   "source": []
  },
  {
   "cell_type": "code",
   "execution_count": 256,
   "metadata": {},
   "outputs": [
    {
     "name": "stderr",
     "output_type": "stream",
     "text": [
      "C:\\ProgramData\\Anaconda3\\lib\\site-packages\\ipykernel_launcher.py:1: VisibleDeprecationWarning: Creating an ndarray from ragged nested sequences (which is a list-or-tuple of lists-or-tuples-or ndarrays with different lengths or shapes) is deprecated. If you meant to do this, you must specify 'dtype=object' when creating the ndarray.\n",
      "  \"\"\"Entry point for launching an IPython kernel.\n"
     ]
    }
   ],
   "source": [
    "a=np.array([[all_days],[all_days]])"
   ]
  },
  {
   "cell_type": "code",
   "execution_count": 257,
   "metadata": {},
   "outputs": [
    {
     "data": {
      "text/plain": [
       "array([[[list(['H', 'M', 'I', 'K', 'LAB21']),\n",
       "         list(['G', 'J', 'M', 'H', 'TUT2']),\n",
       "         list(['I', 'J', 'K', 'G', 'H']), list(['M', 'K', 'LAB23']),\n",
       "         list(['J', 'LAB22']), list(['TUT1'])]],\n",
       "\n",
       "       [[list(['H', 'M', 'I', 'K', 'LAB21']),\n",
       "         list(['G', 'J', 'M', 'H', 'TUT2']),\n",
       "         list(['I', 'J', 'K', 'G', 'H']), list(['M', 'K', 'LAB23']),\n",
       "         list(['J', 'LAB22']), list(['TUT1'])]]], dtype=object)"
      ]
     },
     "execution_count": 257,
     "metadata": {},
     "output_type": "execute_result"
    }
   ],
   "source": [
    "a"
   ]
  },
  {
   "cell_type": "code",
   "execution_count": 271,
   "metadata": {},
   "outputs": [
    {
     "data": {
      "text/plain": [
       "(2, 1, 6)"
      ]
     },
     "execution_count": 271,
     "metadata": {},
     "output_type": "execute_result"
    }
   ],
   "source": [
    "a.shape\n"
   ]
  },
  {
   "cell_type": "code",
   "execution_count": 258,
   "metadata": {
    "scrolled": true
   },
   "outputs": [
    {
     "data": {
      "text/plain": [
       "array([[[list(['H', 'M', 'I', 'K', 'LAB21']),\n",
       "         list(['G', 'J', 'M', 'H', 'TUT2']),\n",
       "         list(['I', 'J', 'K', 'G', 'H']), list(['M', 'K', 'LAB23']),\n",
       "         list(['J', 'LAB22']), list(['TUT1'])]],\n",
       "\n",
       "       [[list(['H', 'M', 'I', 'K', 'LAB21']),\n",
       "         list(['G', 'J', 'M', 'H', 'TUT2']),\n",
       "         list(['I', 'J', 'K', 'G', 'H']), list(['M', 'K', 'LAB23']),\n",
       "         list(['J', 'LAB22']), list(['TUT1'])]]], dtype=object)"
      ]
     },
     "execution_count": 258,
     "metadata": {},
     "output_type": "execute_result"
    }
   ],
   "source": []
  },
  {
   "cell_type": "code",
   "execution_count": 260,
   "metadata": {},
   "outputs": [],
   "source": [
    "year3_dict={'A':1,'B':1,'C':1,'D':1,'E':1,'F':1,'LAB31':2,'LAB32':2,'LAB33':2,'TUT1':2,'TUT2':2} #subjects with number of hours per day"
   ]
  },
  {
   "cell_type": "code",
   "execution_count": 263,
   "metadata": {},
   "outputs": [],
   "source": [
    "year3_subs=list(year3_dict.keys())\n"
   ]
  },
  {
   "cell_type": "code",
   "execution_count": 265,
   "metadata": {},
   "outputs": [
    {
     "data": {
      "text/plain": [
       "['A', 'B', 'C', 'D', 'E', 'F', 'LAB31', 'LAB32', 'LAB33', 'TUT1', 'TUT2']"
      ]
     },
     "execution_count": 265,
     "metadata": {},
     "output_type": "execute_result"
    }
   ],
   "source": [
    "year3_subs"
   ]
  },
  {
   "cell_type": "code",
   "execution_count": null,
   "metadata": {},
   "outputs": [],
   "source": [
    "\n",
    "all_days_3=[]\n",
    "for i in range(0,6):\n",
    "    temp_day=[]\n",
    "    hours_sum=0\n",
    "    flag=0 # This is to check whether lab or tutorial has already been alloted on a same day\n",
    "    for sub in year2_map:\n",
    "        \n",
    "\n",
    "        if sub not in temp_day:\n",
    "            if flag==1:\n",
    "                continue\n",
    "            else:\n",
    "            \n",
    "                if year3_dict[sub]==2: \n",
    "                    flag=1\n",
    "\n",
    "                temp_day.append(sub)\n",
    "\n",
    "                hours_sum+=year3_dict[sub] \n",
    "                year3_map.remove(sub)\n",
    "\n",
    "\n",
    "        \n",
    "        if hours_sum==6:                # 1 day cannot have more than 6 hours\n",
    "            break\n",
    "\n",
    "        else:\n",
    "            pass\n",
    "    all_days_3.append(temp_day) "
   ]
  }
 ],
 "metadata": {
  "kernelspec": {
   "display_name": "Python 3",
   "language": "python",
   "name": "python3"
  },
  "language_info": {
   "codemirror_mode": {
    "name": "ipython",
    "version": 3
   },
   "file_extension": ".py",
   "mimetype": "text/x-python",
   "name": "python",
   "nbconvert_exporter": "python",
   "pygments_lexer": "ipython3",
   "version": "3.7.1"
  }
 },
 "nbformat": 4,
 "nbformat_minor": 4
}
